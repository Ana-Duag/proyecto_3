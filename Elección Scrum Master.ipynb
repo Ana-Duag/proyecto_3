{
 "cells": [
  {
   "cell_type": "markdown",
   "id": "56697eac",
   "metadata": {},
   "source": [
    "Creamos una función para elegir Scrum Master"
   ]
  },
  {
   "cell_type": "code",
   "execution_count": 2,
   "id": "5fad6e5b",
   "metadata": {},
   "outputs": [
    {
     "name": "stdout",
     "output_type": "stream",
     "text": [
      "La finalista es: Samai\n"
     ]
    }
   ],
   "source": [
    "import random\n",
    "\n",
    "def elegir_finalista():\n",
    "    candidatas = [\"Ana\", \"Samai\"]\n",
    "    return random.choice(candidatas)\n",
    "\n",
    "if __name__ == \"__main__\":\n",
    "    print(\"La finalista es:\", elegir_finalista())\n"
   ]
  }
 ],
 "metadata": {
  "kernelspec": {
   "display_name": "Python 3",
   "language": "python",
   "name": "python3"
  },
  "language_info": {
   "codemirror_mode": {
    "name": "ipython",
    "version": 3
   },
   "file_extension": ".py",
   "mimetype": "text/x-python",
   "name": "python",
   "nbconvert_exporter": "python",
   "pygments_lexer": "ipython3",
   "version": "3.13.2"
  }
 },
 "nbformat": 4,
 "nbformat_minor": 5
}
